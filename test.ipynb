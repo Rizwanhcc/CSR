{
 "cells": [
  {
   "cell_type": "code",
   "execution_count": 2,
   "metadata": {},
   "outputs": [],
   "source": [
    "import pandas as pd\n",
    "import numpy as np\n",
    "import matplotlib.pyplot as plt\n",
    "import seaborn as sns"
   ]
  },
  {
   "cell_type": "code",
   "execution_count": 3,
   "metadata": {},
   "outputs": [
    {
     "name": "stdout",
     "output_type": "stream",
     "text": [
      "Current Working Directory  c:\\Users\\URM08A\\Desktop\n"
     ]
    }
   ],
   "source": [
    "import os\n",
    "print(\"Current Working Directory \" , os.getcwd())"
   ]
  },
  {
   "cell_type": "code",
   "execution_count": 6,
   "metadata": {},
   "outputs": [],
   "source": [
    "#Windows path\n",
    "os.chdir('C:/Users/URM08A/Desktop/ESG_Ref_Bloom')"
   ]
  },
  {
   "cell_type": "code",
   "execution_count": 7,
   "metadata": {},
   "outputs": [
    {
     "name": "stdout",
     "output_type": "stream",
     "text": [
      "               ISIN  Year esg_dis\n",
      "0      US0003602069  2001       .\n",
      "1      US0003602069  2002       .\n",
      "2      US0003602069  2003       .\n",
      "3      US0003602069  2004       .\n",
      "4      US0003602069  2005       .\n",
      "...             ...   ...     ...\n",
      "64543  US98986T1088  2018       .\n",
      "64544  US98986T1088  2019       .\n",
      "64545  US98986T1088  2020       .\n",
      "64546  US98986T1088  2021       .\n",
      "64547  US98986T1088  2022       .\n",
      "\n",
      "[64548 rows x 3 columns]\n"
     ]
    }
   ],
   "source": [
    "#import data\n",
    "df = pd.read_excel(r'ESG_Combined.xlsx', sheet_name='ESG_dis_bloom')\n",
    "print(df)"
   ]
  }
 ],
 "metadata": {
  "kernelspec": {
   "display_name": "base",
   "language": "python",
   "name": "python3"
  },
  "language_info": {
   "codemirror_mode": {
    "name": "ipython",
    "version": 3
   },
   "file_extension": ".py",
   "mimetype": "text/x-python",
   "name": "python",
   "nbconvert_exporter": "python",
   "pygments_lexer": "ipython3",
   "version": "3.9.13"
  },
  "orig_nbformat": 4
 },
 "nbformat": 4,
 "nbformat_minor": 2
}
