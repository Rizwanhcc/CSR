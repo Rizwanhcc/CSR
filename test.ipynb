{
 "cells": [
  {
   "cell_type": "code",
   "execution_count": 2,
   "metadata": {},
   "outputs": [],
   "source": [
    "import pandas as pd\n",
    "import numpy as np\n",
    "import matplotlib.pyplot as plt\n",
    "import seaborn as sns"
   ]
  },
  {
   "cell_type": "code",
   "execution_count": 3,
   "metadata": {},
   "outputs": [
    {
     "name": "stdout",
     "output_type": "stream",
     "text": [
      "Current Working Directory  c:\\Users\\URM08A\\Desktop\\CSR\n"
     ]
    }
   ],
   "source": [
    "import os\n",
    "print(\"Current Working Directory \" , os.getcwd())"
   ]
  },
  {
   "cell_type": "code",
   "execution_count": 4,
   "metadata": {},
   "outputs": [],
   "source": [
    "#Windows path\n",
    "os.chdir('C:/Users/URM08A/Desktop/ESG_Ref_Bloom')"
   ]
  },
  {
   "cell_type": "code",
   "execution_count": 5,
   "metadata": {},
   "outputs": [
    {
     "name": "stdout",
     "output_type": "stream",
     "text": [
      "               ISIN  Year esg_dis\n",
      "0      US0003602069  2001       .\n",
      "1      US0003602069  2002       .\n",
      "2      US0003602069  2003       .\n",
      "3      US0003602069  2004       .\n",
      "4      US0003602069  2005       .\n",
      "...             ...   ...     ...\n",
      "64543  US98986T1088  2018       .\n",
      "64544  US98986T1088  2019       .\n",
      "64545  US98986T1088  2020       .\n",
      "64546  US98986T1088  2021       .\n",
      "64547  US98986T1088  2022       .\n",
      "\n",
      "[64548 rows x 3 columns]\n"
     ]
    }
   ],
   "source": [
    "#import data\n",
    "df_bloom = pd.read_excel(r'ESG_Combined.xlsx', sheet_name='ESG_dis_bloom')\n",
    "print(df_bloom)"
   ]
  },
  {
   "cell_type": "code",
   "execution_count": 7,
   "metadata": {},
   "outputs": [
    {
     "name": "stdout",
     "output_type": "stream",
     "text": [
      "              ISIN   IBTKR                                     NAME     SECD  \\\n",
      "0     AN8068571086   @:SLB                             SCHLUMBERGER  2779201   \n",
      "1     BMG0129K1045   @:AYR                                AIRCASTLE  B1BDJQ3   \n",
      "2     BMG0450A1053  @:RISK                             ARCH CAP.GP.  2740542   \n",
      "3     BMG0464B1072  @:PXRE                    ARGO GP.INTL.HOLDINGS  2499543   \n",
      "4     BMG053841547     NaN  ASPEN IN.HDG.5.95% NON-CUM.PERP.PF.SHS.  B94QMV1   \n",
      "...            ...     ...                                      ...      ...   \n",
      "3068  VGG0443N1078  @:WAAS                     AQUAVENTURE HOLDINGS  BYVZDC4   \n",
      "3069  VGG0457F1071  @:ARCD                   ARCOS DORADOS HOLDINGS  B529PQ0   \n",
      "3070  VGG111961055  @:BHVN          BIOHAVEN PHARMACEUTICAL HOLDING  BZ8FXC4   \n",
      "3071  VGG1890L1076  @:KORS                           CAPRI HOLDINGS  BJ1N1M9   \n",
      "3072  VGG872101032  @:UTIW     UTI WORLDWIDE DEAD - DELIST.25/01/16  2676368   \n",
      "\n",
      "     Ticker (I/B/E/S)  \n",
      "0                 SLB  \n",
      "1                 AYR  \n",
      "2                ACGL  \n",
      "3                ARGO  \n",
      "4                 NaN  \n",
      "...               ...  \n",
      "3068             WAAS  \n",
      "3069             ARCO  \n",
      "3070             BHVN  \n",
      "3071             CPRI  \n",
      "3072             UTIW  \n",
      "\n",
      "[3073 rows x 5 columns]\n"
     ]
    }
   ],
   "source": [
    "#import data\n",
    "df_id = pd.read_excel(r'us.xlsx')\n",
    "print(df_id)"
   ]
  },
  {
   "attachments": {},
   "cell_type": "markdown",
   "metadata": {},
   "source": [
    "## Merge "
   ]
  },
  {
   "cell_type": "code",
   "execution_count": 8,
   "metadata": {},
   "outputs": [],
   "source": [
    "result = pd.merge(df_bloom, df_id, how=\"left\", on=[\"ISIN\"])\n"
   ]
  },
  {
   "cell_type": "code",
   "execution_count": 9,
   "metadata": {},
   "outputs": [
    {
     "data": {
      "text/html": [
       "<div>\n",
       "<style scoped>\n",
       "    .dataframe tbody tr th:only-of-type {\n",
       "        vertical-align: middle;\n",
       "    }\n",
       "\n",
       "    .dataframe tbody tr th {\n",
       "        vertical-align: top;\n",
       "    }\n",
       "\n",
       "    .dataframe thead th {\n",
       "        text-align: right;\n",
       "    }\n",
       "</style>\n",
       "<table border=\"1\" class=\"dataframe\">\n",
       "  <thead>\n",
       "    <tr style=\"text-align: right;\">\n",
       "      <th></th>\n",
       "      <th>ISIN</th>\n",
       "      <th>Year</th>\n",
       "      <th>esg_dis</th>\n",
       "      <th>IBTKR</th>\n",
       "      <th>NAME</th>\n",
       "      <th>SECD</th>\n",
       "      <th>Ticker (I/B/E/S)</th>\n",
       "    </tr>\n",
       "  </thead>\n",
       "  <tbody>\n",
       "    <tr>\n",
       "      <th>0</th>\n",
       "      <td>US0003602069</td>\n",
       "      <td>2001</td>\n",
       "      <td>.</td>\n",
       "      <td>@:AAON</td>\n",
       "      <td>AAON</td>\n",
       "      <td>2268130</td>\n",
       "      <td>AAON</td>\n",
       "    </tr>\n",
       "    <tr>\n",
       "      <th>1</th>\n",
       "      <td>US0003602069</td>\n",
       "      <td>2002</td>\n",
       "      <td>.</td>\n",
       "      <td>@:AAON</td>\n",
       "      <td>AAON</td>\n",
       "      <td>2268130</td>\n",
       "      <td>AAON</td>\n",
       "    </tr>\n",
       "    <tr>\n",
       "      <th>2</th>\n",
       "      <td>US0003602069</td>\n",
       "      <td>2003</td>\n",
       "      <td>.</td>\n",
       "      <td>@:AAON</td>\n",
       "      <td>AAON</td>\n",
       "      <td>2268130</td>\n",
       "      <td>AAON</td>\n",
       "    </tr>\n",
       "    <tr>\n",
       "      <th>3</th>\n",
       "      <td>US0003602069</td>\n",
       "      <td>2004</td>\n",
       "      <td>.</td>\n",
       "      <td>@:AAON</td>\n",
       "      <td>AAON</td>\n",
       "      <td>2268130</td>\n",
       "      <td>AAON</td>\n",
       "    </tr>\n",
       "    <tr>\n",
       "      <th>4</th>\n",
       "      <td>US0003602069</td>\n",
       "      <td>2005</td>\n",
       "      <td>.</td>\n",
       "      <td>@:AAON</td>\n",
       "      <td>AAON</td>\n",
       "      <td>2268130</td>\n",
       "      <td>AAON</td>\n",
       "    </tr>\n",
       "    <tr>\n",
       "      <th>...</th>\n",
       "      <td>...</td>\n",
       "      <td>...</td>\n",
       "      <td>...</td>\n",
       "      <td>...</td>\n",
       "      <td>...</td>\n",
       "      <td>...</td>\n",
       "      <td>...</td>\n",
       "    </tr>\n",
       "    <tr>\n",
       "      <th>64543</th>\n",
       "      <td>US98986T1088</td>\n",
       "      <td>2018</td>\n",
       "      <td>.</td>\n",
       "      <td>@:ZNGA</td>\n",
       "      <td>ZYNGA 'A'</td>\n",
       "      <td>B79PX49</td>\n",
       "      <td>ZNGA</td>\n",
       "    </tr>\n",
       "    <tr>\n",
       "      <th>64544</th>\n",
       "      <td>US98986T1088</td>\n",
       "      <td>2019</td>\n",
       "      <td>.</td>\n",
       "      <td>@:ZNGA</td>\n",
       "      <td>ZYNGA 'A'</td>\n",
       "      <td>B79PX49</td>\n",
       "      <td>ZNGA</td>\n",
       "    </tr>\n",
       "    <tr>\n",
       "      <th>64545</th>\n",
       "      <td>US98986T1088</td>\n",
       "      <td>2020</td>\n",
       "      <td>.</td>\n",
       "      <td>@:ZNGA</td>\n",
       "      <td>ZYNGA 'A'</td>\n",
       "      <td>B79PX49</td>\n",
       "      <td>ZNGA</td>\n",
       "    </tr>\n",
       "    <tr>\n",
       "      <th>64546</th>\n",
       "      <td>US98986T1088</td>\n",
       "      <td>2021</td>\n",
       "      <td>.</td>\n",
       "      <td>@:ZNGA</td>\n",
       "      <td>ZYNGA 'A'</td>\n",
       "      <td>B79PX49</td>\n",
       "      <td>ZNGA</td>\n",
       "    </tr>\n",
       "    <tr>\n",
       "      <th>64547</th>\n",
       "      <td>US98986T1088</td>\n",
       "      <td>2022</td>\n",
       "      <td>.</td>\n",
       "      <td>@:ZNGA</td>\n",
       "      <td>ZYNGA 'A'</td>\n",
       "      <td>B79PX49</td>\n",
       "      <td>ZNGA</td>\n",
       "    </tr>\n",
       "  </tbody>\n",
       "</table>\n",
       "<p>64548 rows × 7 columns</p>\n",
       "</div>"
      ],
      "text/plain": [
       "               ISIN  Year esg_dis   IBTKR       NAME     SECD Ticker (I/B/E/S)\n",
       "0      US0003602069  2001       .  @:AAON       AAON  2268130             AAON\n",
       "1      US0003602069  2002       .  @:AAON       AAON  2268130             AAON\n",
       "2      US0003602069  2003       .  @:AAON       AAON  2268130             AAON\n",
       "3      US0003602069  2004       .  @:AAON       AAON  2268130             AAON\n",
       "4      US0003602069  2005       .  @:AAON       AAON  2268130             AAON\n",
       "...             ...   ...     ...     ...        ...      ...              ...\n",
       "64543  US98986T1088  2018       .  @:ZNGA  ZYNGA 'A'  B79PX49             ZNGA\n",
       "64544  US98986T1088  2019       .  @:ZNGA  ZYNGA 'A'  B79PX49             ZNGA\n",
       "64545  US98986T1088  2020       .  @:ZNGA  ZYNGA 'A'  B79PX49             ZNGA\n",
       "64546  US98986T1088  2021       .  @:ZNGA  ZYNGA 'A'  B79PX49             ZNGA\n",
       "64547  US98986T1088  2022       .  @:ZNGA  ZYNGA 'A'  B79PX49             ZNGA\n",
       "\n",
       "[64548 rows x 7 columns]"
      ]
     },
     "execution_count": 9,
     "metadata": {},
     "output_type": "execute_result"
    }
   ],
   "source": [
    "result"
   ]
  },
  {
   "cell_type": "code",
   "execution_count": null,
   "metadata": {},
   "outputs": [],
   "source": []
  },
  {
   "cell_type": "code",
   "execution_count": null,
   "metadata": {},
   "outputs": [],
   "source": []
  },
  {
   "cell_type": "code",
   "execution_count": null,
   "metadata": {},
   "outputs": [],
   "source": []
  },
  {
   "cell_type": "code",
   "execution_count": null,
   "metadata": {},
   "outputs": [],
   "source": []
  },
  {
   "cell_type": "code",
   "execution_count": null,
   "metadata": {},
   "outputs": [],
   "source": []
  },
  {
   "cell_type": "code",
   "execution_count": null,
   "metadata": {},
   "outputs": [],
   "source": []
  },
  {
   "cell_type": "code",
   "execution_count": null,
   "metadata": {},
   "outputs": [],
   "source": []
  }
 ],
 "metadata": {
  "kernelspec": {
   "display_name": "base",
   "language": "python",
   "name": "python3"
  },
  "language_info": {
   "codemirror_mode": {
    "name": "ipython",
    "version": 3
   },
   "file_extension": ".py",
   "mimetype": "text/x-python",
   "name": "python",
   "nbconvert_exporter": "python",
   "pygments_lexer": "ipython3",
   "version": "3.9.13"
  },
  "orig_nbformat": 4
 },
 "nbformat": 4,
 "nbformat_minor": 2
}
